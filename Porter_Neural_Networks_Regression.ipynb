{
 "cells": [
  {
   "cell_type": "markdown",
   "metadata": {
    "id": "V-uU6IWs-TE1"
   },
   "source": [
    "Data Dictionary\n",
    "\n",
    "Each row in this file corresponds to one unique delivery. Each column corresponds to a feature as explained below.\n",
    "\n",
    "*   market_id : integer id for the market where the restaurant lies\n",
    "*   created_at : the timestamp at which the order was placed\n",
    "*   actual_delivery_time : the timestamp when the order was delivered\n",
    "\n",
    "*   store_primary_category : category for the restaurant\n",
    "*   order_protocol : integer code value for order protocol(how the order was placed ie: through porter, call to restaurant, pre booked, third part etc)\n",
    "\n",
    "*   total_items\n",
    "*   subtotal : final price of the order\n",
    "*   num_distinct_items : the number of distinct items in the order\n",
    "\n",
    "*   min_item_price : price of the cheapest item in the order\n",
    "*   max_item_price : price of the costliest item in order\n",
    "\n",
    "*   total_onshift_partners : number of delivery partners on duty at the time order was placed\n",
    "*   total_busy_partners : number of delivery partners attending to other tasks\n",
    "\n",
    "*   total_outstanding_orders : total number of orders to be fulfilled at the moment"
   ]
  },
  {
   "cell_type": "code",
   "execution_count": 1,
   "metadata": {
    "colab": {
     "base_uri": "https://localhost:8080/",
     "height": 312
    },
    "id": "2bA1n4Kv72Ds",
    "outputId": "3155a914-54ab-487f-a202-7fa12dde1e66"
   },
   "outputs": [
    {
     "data": {
      "text/html": [
       "<div>\n",
       "<style scoped>\n",
       "    .dataframe tbody tr th:only-of-type {\n",
       "        vertical-align: middle;\n",
       "    }\n",
       "\n",
       "    .dataframe tbody tr th {\n",
       "        vertical-align: top;\n",
       "    }\n",
       "\n",
       "    .dataframe thead th {\n",
       "        text-align: right;\n",
       "    }\n",
       "</style>\n",
       "<table border=\"1\" class=\"dataframe\">\n",
       "  <thead>\n",
       "    <tr style=\"text-align: right;\">\n",
       "      <th></th>\n",
       "      <th>market_id</th>\n",
       "      <th>created_at</th>\n",
       "      <th>actual_delivery_time</th>\n",
       "      <th>store_id</th>\n",
       "      <th>store_primary_category</th>\n",
       "      <th>order_protocol</th>\n",
       "      <th>total_items</th>\n",
       "      <th>subtotal</th>\n",
       "      <th>num_distinct_items</th>\n",
       "      <th>min_item_price</th>\n",
       "      <th>max_item_price</th>\n",
       "      <th>total_onshift_partners</th>\n",
       "      <th>total_busy_partners</th>\n",
       "      <th>total_outstanding_orders</th>\n",
       "    </tr>\n",
       "  </thead>\n",
       "  <tbody>\n",
       "    <tr>\n",
       "      <th>0</th>\n",
       "      <td>1.0</td>\n",
       "      <td>2015-02-06 22:24:17</td>\n",
       "      <td>2015-02-06 23:27:16</td>\n",
       "      <td>df263d996281d984952c07998dc54358</td>\n",
       "      <td>american</td>\n",
       "      <td>1.0</td>\n",
       "      <td>4</td>\n",
       "      <td>3441</td>\n",
       "      <td>4</td>\n",
       "      <td>557</td>\n",
       "      <td>1239</td>\n",
       "      <td>33.0</td>\n",
       "      <td>14.0</td>\n",
       "      <td>21.0</td>\n",
       "    </tr>\n",
       "    <tr>\n",
       "      <th>1</th>\n",
       "      <td>2.0</td>\n",
       "      <td>2015-02-10 21:49:25</td>\n",
       "      <td>2015-02-10 22:56:29</td>\n",
       "      <td>f0ade77b43923b38237db569b016ba25</td>\n",
       "      <td>mexican</td>\n",
       "      <td>2.0</td>\n",
       "      <td>1</td>\n",
       "      <td>1900</td>\n",
       "      <td>1</td>\n",
       "      <td>1400</td>\n",
       "      <td>1400</td>\n",
       "      <td>1.0</td>\n",
       "      <td>2.0</td>\n",
       "      <td>2.0</td>\n",
       "    </tr>\n",
       "    <tr>\n",
       "      <th>2</th>\n",
       "      <td>3.0</td>\n",
       "      <td>2015-01-22 20:39:28</td>\n",
       "      <td>2015-01-22 21:09:09</td>\n",
       "      <td>f0ade77b43923b38237db569b016ba25</td>\n",
       "      <td>NaN</td>\n",
       "      <td>1.0</td>\n",
       "      <td>1</td>\n",
       "      <td>1900</td>\n",
       "      <td>1</td>\n",
       "      <td>1900</td>\n",
       "      <td>1900</td>\n",
       "      <td>1.0</td>\n",
       "      <td>0.0</td>\n",
       "      <td>0.0</td>\n",
       "    </tr>\n",
       "    <tr>\n",
       "      <th>3</th>\n",
       "      <td>3.0</td>\n",
       "      <td>2015-02-03 21:21:45</td>\n",
       "      <td>2015-02-03 22:13:00</td>\n",
       "      <td>f0ade77b43923b38237db569b016ba25</td>\n",
       "      <td>NaN</td>\n",
       "      <td>1.0</td>\n",
       "      <td>6</td>\n",
       "      <td>6900</td>\n",
       "      <td>5</td>\n",
       "      <td>600</td>\n",
       "      <td>1800</td>\n",
       "      <td>1.0</td>\n",
       "      <td>1.0</td>\n",
       "      <td>2.0</td>\n",
       "    </tr>\n",
       "    <tr>\n",
       "      <th>4</th>\n",
       "      <td>3.0</td>\n",
       "      <td>2015-02-15 02:40:36</td>\n",
       "      <td>2015-02-15 03:20:26</td>\n",
       "      <td>f0ade77b43923b38237db569b016ba25</td>\n",
       "      <td>NaN</td>\n",
       "      <td>1.0</td>\n",
       "      <td>3</td>\n",
       "      <td>3900</td>\n",
       "      <td>3</td>\n",
       "      <td>1100</td>\n",
       "      <td>1600</td>\n",
       "      <td>6.0</td>\n",
       "      <td>6.0</td>\n",
       "      <td>9.0</td>\n",
       "    </tr>\n",
       "  </tbody>\n",
       "</table>\n",
       "</div>"
      ],
      "text/plain": [
       "   market_id           created_at actual_delivery_time  \\\n",
       "0        1.0  2015-02-06 22:24:17  2015-02-06 23:27:16   \n",
       "1        2.0  2015-02-10 21:49:25  2015-02-10 22:56:29   \n",
       "2        3.0  2015-01-22 20:39:28  2015-01-22 21:09:09   \n",
       "3        3.0  2015-02-03 21:21:45  2015-02-03 22:13:00   \n",
       "4        3.0  2015-02-15 02:40:36  2015-02-15 03:20:26   \n",
       "\n",
       "                           store_id store_primary_category  order_protocol  \\\n",
       "0  df263d996281d984952c07998dc54358               american             1.0   \n",
       "1  f0ade77b43923b38237db569b016ba25                mexican             2.0   \n",
       "2  f0ade77b43923b38237db569b016ba25                    NaN             1.0   \n",
       "3  f0ade77b43923b38237db569b016ba25                    NaN             1.0   \n",
       "4  f0ade77b43923b38237db569b016ba25                    NaN             1.0   \n",
       "\n",
       "   total_items  subtotal  num_distinct_items  min_item_price  max_item_price  \\\n",
       "0            4      3441                   4             557            1239   \n",
       "1            1      1900                   1            1400            1400   \n",
       "2            1      1900                   1            1900            1900   \n",
       "3            6      6900                   5             600            1800   \n",
       "4            3      3900                   3            1100            1600   \n",
       "\n",
       "   total_onshift_partners  total_busy_partners  total_outstanding_orders  \n",
       "0                    33.0                 14.0                      21.0  \n",
       "1                     1.0                  2.0                       2.0  \n",
       "2                     1.0                  0.0                       0.0  \n",
       "3                     1.0                  1.0                       2.0  \n",
       "4                     6.0                  6.0                       9.0  "
      ]
     },
     "execution_count": 1,
     "metadata": {},
     "output_type": "execute_result"
    }
   ],
   "source": [
    "import pandas as pd\n",
    "df=pd.read_csv('porter_dataset.csv')\n",
    "df.head()"
   ]
  },
  {
   "cell_type": "markdown",
   "metadata": {
    "id": "o66NXA2r_pBl"
   },
   "source": [
    "**Defining problem statement, importing the data and data structure analysis (10 points)**\n",
    "\n",
    "*PROBLEM STATEMENT:* Porter has a number of delivery partners available for delivering the food, from various restaurants and wants to get an estimated delivery time that it can provide the customers on the basis of what they are ordering, from where and also the delivery partners.\n",
    "\n",
    "This dataset has the required data to train a regression model that will do the delivery time esimation, based on all those features\n",
    "\n"
   ]
  },
  {
   "cell_type": "code",
   "execution_count": 2,
   "metadata": {
    "colab": {
     "base_uri": "https://localhost:8080/"
    },
    "id": "3JungGIn9bzV",
    "outputId": "5bc20673-e1e3-45b8-9d87-35a3e4ae6c53"
   },
   "outputs": [
    {
     "name": "stdout",
     "output_type": "stream",
     "text": [
      "<class 'pandas.core.frame.DataFrame'>\n",
      "RangeIndex: 197428 entries, 0 to 197427\n",
      "Data columns (total 14 columns):\n",
      " #   Column                    Non-Null Count   Dtype  \n",
      "---  ------                    --------------   -----  \n",
      " 0   market_id                 196441 non-null  float64\n",
      " 1   created_at                197428 non-null  object \n",
      " 2   actual_delivery_time      197421 non-null  object \n",
      " 3   store_id                  197428 non-null  object \n",
      " 4   store_primary_category    192668 non-null  object \n",
      " 5   order_protocol            196433 non-null  float64\n",
      " 6   total_items               197428 non-null  int64  \n",
      " 7   subtotal                  197428 non-null  int64  \n",
      " 8   num_distinct_items        197428 non-null  int64  \n",
      " 9   min_item_price            197428 non-null  int64  \n",
      " 10  max_item_price            197428 non-null  int64  \n",
      " 11  total_onshift_partners    181166 non-null  float64\n",
      " 12  total_busy_partners       181166 non-null  float64\n",
      " 13  total_outstanding_orders  181166 non-null  float64\n",
      "dtypes: float64(5), int64(5), object(4)\n",
      "memory usage: 21.1+ MB\n"
     ]
    }
   ],
   "source": [
    "df.info()"
   ]
  },
  {
   "cell_type": "code",
   "execution_count": 3,
   "metadata": {},
   "outputs": [
    {
     "data": {
      "text/plain": [
       "(197428, 14)"
      ]
     },
     "execution_count": 3,
     "metadata": {},
     "output_type": "execute_result"
    }
   ],
   "source": [
    "df.shape"
   ]
  },
  {
   "cell_type": "code",
   "execution_count": 4,
   "metadata": {
    "colab": {
     "base_uri": "https://localhost:8080/"
    },
    "id": "00ckF1T19eFQ",
    "outputId": "d7338b4d-f458-4147-b7a1-253addc92d96"
   },
   "outputs": [
    {
     "data": {
      "text/plain": [
       "market_id                     987\n",
       "created_at                      0\n",
       "actual_delivery_time            7\n",
       "store_id                        0\n",
       "store_primary_category       4760\n",
       "order_protocol                995\n",
       "total_items                     0\n",
       "subtotal                        0\n",
       "num_distinct_items              0\n",
       "min_item_price                  0\n",
       "max_item_price                  0\n",
       "total_onshift_partners      16262\n",
       "total_busy_partners         16262\n",
       "total_outstanding_orders    16262\n",
       "dtype: int64"
      ]
     },
     "execution_count": 4,
     "metadata": {},
     "output_type": "execute_result"
    }
   ],
   "source": [
    "df.isna().sum()"
   ]
  },
  {
   "cell_type": "code",
   "execution_count": 5,
   "metadata": {
    "colab": {
     "base_uri": "https://localhost:8080/",
     "height": 365
    },
    "id": "QMTeuWekAQPm",
    "outputId": "b43451c9-8e32-41e9-fa02-3f2c4274cef5"
   },
   "outputs": [
    {
     "name": "stdout",
     "output_type": "stream",
     "text": [
      "NAN in total_onshift_partners : 91.7630731203274\n",
      "NAN in total_busy_partners : 91.7630731203274\n",
      "NAN in total_outstanding_orders : 91.7630731203274\n"
     ]
    },
    {
     "data": {
      "text/html": [
       "<div>\n",
       "<style scoped>\n",
       "    .dataframe tbody tr th:only-of-type {\n",
       "        vertical-align: middle;\n",
       "    }\n",
       "\n",
       "    .dataframe tbody tr th {\n",
       "        vertical-align: top;\n",
       "    }\n",
       "\n",
       "    .dataframe thead th {\n",
       "        text-align: right;\n",
       "    }\n",
       "</style>\n",
       "<table border=\"1\" class=\"dataframe\">\n",
       "  <thead>\n",
       "    <tr style=\"text-align: right;\">\n",
       "      <th></th>\n",
       "      <th>market_id</th>\n",
       "      <th>created_at</th>\n",
       "      <th>actual_delivery_time</th>\n",
       "      <th>store_id</th>\n",
       "      <th>store_primary_category</th>\n",
       "      <th>order_protocol</th>\n",
       "      <th>total_items</th>\n",
       "      <th>subtotal</th>\n",
       "      <th>num_distinct_items</th>\n",
       "      <th>min_item_price</th>\n",
       "      <th>max_item_price</th>\n",
       "    </tr>\n",
       "  </thead>\n",
       "  <tbody>\n",
       "    <tr>\n",
       "      <th>0</th>\n",
       "      <td>1.0</td>\n",
       "      <td>2015-02-06 22:24:17</td>\n",
       "      <td>2015-02-06 23:27:16</td>\n",
       "      <td>df263d996281d984952c07998dc54358</td>\n",
       "      <td>american</td>\n",
       "      <td>1.0</td>\n",
       "      <td>4</td>\n",
       "      <td>3441</td>\n",
       "      <td>4</td>\n",
       "      <td>557</td>\n",
       "      <td>1239</td>\n",
       "    </tr>\n",
       "    <tr>\n",
       "      <th>1</th>\n",
       "      <td>2.0</td>\n",
       "      <td>2015-02-10 21:49:25</td>\n",
       "      <td>2015-02-10 22:56:29</td>\n",
       "      <td>f0ade77b43923b38237db569b016ba25</td>\n",
       "      <td>mexican</td>\n",
       "      <td>2.0</td>\n",
       "      <td>1</td>\n",
       "      <td>1900</td>\n",
       "      <td>1</td>\n",
       "      <td>1400</td>\n",
       "      <td>1400</td>\n",
       "    </tr>\n",
       "    <tr>\n",
       "      <th>2</th>\n",
       "      <td>3.0</td>\n",
       "      <td>2015-01-22 20:39:28</td>\n",
       "      <td>2015-01-22 21:09:09</td>\n",
       "      <td>f0ade77b43923b38237db569b016ba25</td>\n",
       "      <td>NaN</td>\n",
       "      <td>1.0</td>\n",
       "      <td>1</td>\n",
       "      <td>1900</td>\n",
       "      <td>1</td>\n",
       "      <td>1900</td>\n",
       "      <td>1900</td>\n",
       "    </tr>\n",
       "    <tr>\n",
       "      <th>3</th>\n",
       "      <td>3.0</td>\n",
       "      <td>2015-02-03 21:21:45</td>\n",
       "      <td>2015-02-03 22:13:00</td>\n",
       "      <td>f0ade77b43923b38237db569b016ba25</td>\n",
       "      <td>NaN</td>\n",
       "      <td>1.0</td>\n",
       "      <td>6</td>\n",
       "      <td>6900</td>\n",
       "      <td>5</td>\n",
       "      <td>600</td>\n",
       "      <td>1800</td>\n",
       "    </tr>\n",
       "    <tr>\n",
       "      <th>4</th>\n",
       "      <td>3.0</td>\n",
       "      <td>2015-02-15 02:40:36</td>\n",
       "      <td>2015-02-15 03:20:26</td>\n",
       "      <td>f0ade77b43923b38237db569b016ba25</td>\n",
       "      <td>NaN</td>\n",
       "      <td>1.0</td>\n",
       "      <td>3</td>\n",
       "      <td>3900</td>\n",
       "      <td>3</td>\n",
       "      <td>1100</td>\n",
       "      <td>1600</td>\n",
       "    </tr>\n",
       "  </tbody>\n",
       "</table>\n",
       "</div>"
      ],
      "text/plain": [
       "   market_id           created_at actual_delivery_time  \\\n",
       "0        1.0  2015-02-06 22:24:17  2015-02-06 23:27:16   \n",
       "1        2.0  2015-02-10 21:49:25  2015-02-10 22:56:29   \n",
       "2        3.0  2015-01-22 20:39:28  2015-01-22 21:09:09   \n",
       "3        3.0  2015-02-03 21:21:45  2015-02-03 22:13:00   \n",
       "4        3.0  2015-02-15 02:40:36  2015-02-15 03:20:26   \n",
       "\n",
       "                           store_id store_primary_category  order_protocol  \\\n",
       "0  df263d996281d984952c07998dc54358               american             1.0   \n",
       "1  f0ade77b43923b38237db569b016ba25                mexican             2.0   \n",
       "2  f0ade77b43923b38237db569b016ba25                    NaN             1.0   \n",
       "3  f0ade77b43923b38237db569b016ba25                    NaN             1.0   \n",
       "4  f0ade77b43923b38237db569b016ba25                    NaN             1.0   \n",
       "\n",
       "   total_items  subtotal  num_distinct_items  min_item_price  max_item_price  \n",
       "0            4      3441                   4             557            1239  \n",
       "1            1      1900                   1            1400            1400  \n",
       "2            1      1900                   1            1900            1900  \n",
       "3            6      6900                   5             600            1800  \n",
       "4            3      3900                   3            1100            1600  "
      ]
     },
     "execution_count": 5,
     "metadata": {},
     "output_type": "execute_result"
    }
   ],
   "source": [
    "print('NAN in total_onshift_partners :',(len(df['total_onshift_partners'])-df['total_onshift_partners'].isna().sum())/len(df['total_onshift_partners'])*100)\n",
    "df.drop(['total_onshift_partners'],inplace=True,axis=1)\n",
    "print('NAN in total_busy_partners :',(len(df['total_busy_partners'])-df['total_busy_partners'].isna().sum())/len(df['total_busy_partners'])*100)\n",
    "df.drop(['total_busy_partners'],inplace=True,axis=1)\n",
    "print('NAN in total_outstanding_orders :',(len(df['total_outstanding_orders'])-df['total_outstanding_orders'].isna().sum())/len(df['total_outstanding_orders'])*100)\n",
    "df.drop(['total_outstanding_orders'],inplace=True,axis=1)\n",
    "df.head()"
   ]
  },
  {
   "cell_type": "markdown",
   "metadata": {
    "id": "86zyYq__j3HL"
   },
   "source": [
    "**\n",
    "Data preprocessing and feature engineering (30 points)\n",
    "  \n",
    "\n",
    "*   Data cleaning\n",
    "*   Null value handling\n",
    "\n",
    "*   Creating the target column (time taken for delivery) from order timestamp and delivery timestamp\n",
    "\n",
    "*   Getting hour and day of the week\n",
    "*   Encoding categorical column\n",
    "\n",
    "**"
   ]
  },
  {
   "cell_type": "code",
   "execution_count": 6,
   "metadata": {
    "colab": {
     "base_uri": "https://localhost:8080/"
    },
    "id": "aF5zWBoLAzJE",
    "outputId": "f5f9a3e2-df4b-43d3-82eb-9b111f5396be"
   },
   "outputs": [
    {
     "data": {
      "text/plain": [
       "market_id                 0\n",
       "created_at                0\n",
       "actual_delivery_time      0\n",
       "store_id                  0\n",
       "store_primary_category    0\n",
       "order_protocol            0\n",
       "total_items               0\n",
       "subtotal                  0\n",
       "num_distinct_items        0\n",
       "min_item_price            0\n",
       "max_item_price            0\n",
       "dtype: int64"
      ]
     },
     "execution_count": 6,
     "metadata": {},
     "output_type": "execute_result"
    }
   ],
   "source": [
    "df['store_primary_category'].value_counts()\n",
    "df['store_primary_category'].fillna('Other',inplace=True)\n",
    "df['market_id'].value_counts()\n",
    "df['market_id'].fillna('0.0',inplace=True)\n",
    "df['order_protocol'].value_counts()\n",
    "df['order_protocol'].fillna('0.0',inplace=True)\n",
    "df.dropna(subset=['actual_delivery_time'],inplace=True)\n",
    "df.isna().sum()\n",
    "#df.info()"
   ]
  },
  {
   "cell_type": "code",
   "execution_count": 7,
   "metadata": {},
   "outputs": [
    {
     "data": {
      "text/plain": [
       "(197421, 11)"
      ]
     },
     "execution_count": 7,
     "metadata": {},
     "output_type": "execute_result"
    }
   ],
   "source": [
    "df.shape"
   ]
  },
  {
   "cell_type": "code",
   "execution_count": 8,
   "metadata": {
    "colab": {
     "base_uri": "https://localhost:8080/"
    },
    "id": "FgYzooEmF_9W",
    "outputId": "cbe4ba53-125b-4425-c285-7c5b2f656615"
   },
   "outputs": [
    {
     "name": "stdout",
     "output_type": "stream",
     "text": [
      "Categorical columns : ['market_id', 'created_at', 'actual_delivery_time', 'store_id', 'store_primary_category', 'order_protocol']\n",
      "Numerical columns : ['total_items', 'subtotal', 'num_distinct_items', 'min_item_price', 'max_item_price']\n"
     ]
    },
    {
     "data": {
      "text/plain": [
       "market_id                      7\n",
       "created_at                180981\n",
       "actual_delivery_time      178110\n",
       "store_id                    6743\n",
       "store_primary_category        75\n",
       "order_protocol                 8\n",
       "dtype: int64"
      ]
     },
     "execution_count": 8,
     "metadata": {},
     "output_type": "execute_result"
    }
   ],
   "source": [
    "#Categorical columns\n",
    "cat_col = [col for col in df.columns if df[col].dtype == 'object']\n",
    "print('Categorical columns :',cat_col)\n",
    "# Numerical columns\n",
    "num_col = [col for col in df.columns if df[col].dtype != 'object']\n",
    "print('Numerical columns :',num_col)\n",
    "df[cat_col].nunique()"
   ]
  },
  {
   "cell_type": "code",
   "execution_count": 9,
   "metadata": {
    "id": "nJDjbCDdGP5g"
   },
   "outputs": [],
   "source": [
    "df['actual_delivery_time']=df['actual_delivery_time'].astype('datetime64[ns]')\n",
    "df['created_at']=df['created_at'].astype('datetime64[ns]')\n",
    "df['Time_taken_for_delivery']= (df['actual_delivery_time']-df['created_at'])/pd.Timedelta('60s')\n",
    "df['hour']=df['created_at'].dt.hour\n",
    "df['day']=df['created_at'].dt.dayofweek"
   ]
  },
  {
   "cell_type": "markdown",
   "metadata": {
    "id": "GfrJXY_YDYDm"
   },
   "source": [
    "Dropping the Column that are no longer required"
   ]
  },
  {
   "cell_type": "code",
   "execution_count": 10,
   "metadata": {
    "id": "Wi1OEpCBHGC2"
   },
   "outputs": [],
   "source": [
    "df.drop(['created_at','actual_delivery_time','store_id'],axis=1,inplace=True)"
   ]
  },
  {
   "cell_type": "code",
   "execution_count": 11,
   "metadata": {},
   "outputs": [
    {
     "data": {
      "text/html": [
       "<div>\n",
       "<style scoped>\n",
       "    .dataframe tbody tr th:only-of-type {\n",
       "        vertical-align: middle;\n",
       "    }\n",
       "\n",
       "    .dataframe tbody tr th {\n",
       "        vertical-align: top;\n",
       "    }\n",
       "\n",
       "    .dataframe thead th {\n",
       "        text-align: right;\n",
       "    }\n",
       "</style>\n",
       "<table border=\"1\" class=\"dataframe\">\n",
       "  <thead>\n",
       "    <tr style=\"text-align: right;\">\n",
       "      <th></th>\n",
       "      <th>market_id</th>\n",
       "      <th>store_primary_category</th>\n",
       "      <th>order_protocol</th>\n",
       "      <th>total_items</th>\n",
       "      <th>subtotal</th>\n",
       "      <th>num_distinct_items</th>\n",
       "      <th>min_item_price</th>\n",
       "      <th>max_item_price</th>\n",
       "      <th>Time_taken_for_delivery</th>\n",
       "      <th>hour</th>\n",
       "      <th>day</th>\n",
       "    </tr>\n",
       "  </thead>\n",
       "  <tbody>\n",
       "    <tr>\n",
       "      <th>0</th>\n",
       "      <td>1.0</td>\n",
       "      <td>american</td>\n",
       "      <td>1.0</td>\n",
       "      <td>4</td>\n",
       "      <td>3441</td>\n",
       "      <td>4</td>\n",
       "      <td>557</td>\n",
       "      <td>1239</td>\n",
       "      <td>62.983333</td>\n",
       "      <td>22</td>\n",
       "      <td>4</td>\n",
       "    </tr>\n",
       "    <tr>\n",
       "      <th>1</th>\n",
       "      <td>2.0</td>\n",
       "      <td>mexican</td>\n",
       "      <td>2.0</td>\n",
       "      <td>1</td>\n",
       "      <td>1900</td>\n",
       "      <td>1</td>\n",
       "      <td>1400</td>\n",
       "      <td>1400</td>\n",
       "      <td>67.066667</td>\n",
       "      <td>21</td>\n",
       "      <td>1</td>\n",
       "    </tr>\n",
       "    <tr>\n",
       "      <th>2</th>\n",
       "      <td>3.0</td>\n",
       "      <td>Other</td>\n",
       "      <td>1.0</td>\n",
       "      <td>1</td>\n",
       "      <td>1900</td>\n",
       "      <td>1</td>\n",
       "      <td>1900</td>\n",
       "      <td>1900</td>\n",
       "      <td>29.683333</td>\n",
       "      <td>20</td>\n",
       "      <td>3</td>\n",
       "    </tr>\n",
       "    <tr>\n",
       "      <th>3</th>\n",
       "      <td>3.0</td>\n",
       "      <td>Other</td>\n",
       "      <td>1.0</td>\n",
       "      <td>6</td>\n",
       "      <td>6900</td>\n",
       "      <td>5</td>\n",
       "      <td>600</td>\n",
       "      <td>1800</td>\n",
       "      <td>51.250000</td>\n",
       "      <td>21</td>\n",
       "      <td>1</td>\n",
       "    </tr>\n",
       "    <tr>\n",
       "      <th>4</th>\n",
       "      <td>3.0</td>\n",
       "      <td>Other</td>\n",
       "      <td>1.0</td>\n",
       "      <td>3</td>\n",
       "      <td>3900</td>\n",
       "      <td>3</td>\n",
       "      <td>1100</td>\n",
       "      <td>1600</td>\n",
       "      <td>39.833333</td>\n",
       "      <td>2</td>\n",
       "      <td>6</td>\n",
       "    </tr>\n",
       "  </tbody>\n",
       "</table>\n",
       "</div>"
      ],
      "text/plain": [
       "  market_id store_primary_category order_protocol  total_items  subtotal  \\\n",
       "0       1.0               american            1.0            4      3441   \n",
       "1       2.0                mexican            2.0            1      1900   \n",
       "2       3.0                  Other            1.0            1      1900   \n",
       "3       3.0                  Other            1.0            6      6900   \n",
       "4       3.0                  Other            1.0            3      3900   \n",
       "\n",
       "   num_distinct_items  min_item_price  max_item_price  \\\n",
       "0                   4             557            1239   \n",
       "1                   1            1400            1400   \n",
       "2                   1            1900            1900   \n",
       "3                   5             600            1800   \n",
       "4                   3            1100            1600   \n",
       "\n",
       "   Time_taken_for_delivery  hour  day  \n",
       "0                62.983333    22    4  \n",
       "1                67.066667    21    1  \n",
       "2                29.683333    20    3  \n",
       "3                51.250000    21    1  \n",
       "4                39.833333     2    6  "
      ]
     },
     "execution_count": 11,
     "metadata": {},
     "output_type": "execute_result"
    }
   ],
   "source": [
    "df.head()"
   ]
  },
  {
   "cell_type": "code",
   "execution_count": 12,
   "metadata": {
    "colab": {
     "base_uri": "https://localhost:8080/",
     "height": 206
    },
    "id": "3r3_VejImdeT",
    "outputId": "60123813-8bb2-4546-d931-3e0fe96d82bd"
   },
   "outputs": [
    {
     "data": {
      "text/html": [
       "<div>\n",
       "<style scoped>\n",
       "    .dataframe tbody tr th:only-of-type {\n",
       "        vertical-align: middle;\n",
       "    }\n",
       "\n",
       "    .dataframe tbody tr th {\n",
       "        vertical-align: top;\n",
       "    }\n",
       "\n",
       "    .dataframe thead th {\n",
       "        text-align: right;\n",
       "    }\n",
       "</style>\n",
       "<table border=\"1\" class=\"dataframe\">\n",
       "  <thead>\n",
       "    <tr style=\"text-align: right;\">\n",
       "      <th></th>\n",
       "      <th>market_id</th>\n",
       "      <th>store_primary_category</th>\n",
       "      <th>order_protocol</th>\n",
       "      <th>total_items</th>\n",
       "      <th>subtotal</th>\n",
       "      <th>num_distinct_items</th>\n",
       "      <th>min_item_price</th>\n",
       "      <th>max_item_price</th>\n",
       "      <th>Time_taken_for_delivery</th>\n",
       "      <th>hour</th>\n",
       "      <th>day</th>\n",
       "    </tr>\n",
       "  </thead>\n",
       "  <tbody>\n",
       "    <tr>\n",
       "      <th>0</th>\n",
       "      <td>1.0</td>\n",
       "      <td>5</td>\n",
       "      <td>1.0</td>\n",
       "      <td>4</td>\n",
       "      <td>3441</td>\n",
       "      <td>4</td>\n",
       "      <td>557</td>\n",
       "      <td>1239</td>\n",
       "      <td>62.983333</td>\n",
       "      <td>22</td>\n",
       "      <td>4</td>\n",
       "    </tr>\n",
       "    <tr>\n",
       "      <th>1</th>\n",
       "      <td>2.0</td>\n",
       "      <td>48</td>\n",
       "      <td>2.0</td>\n",
       "      <td>1</td>\n",
       "      <td>1900</td>\n",
       "      <td>1</td>\n",
       "      <td>1400</td>\n",
       "      <td>1400</td>\n",
       "      <td>67.066667</td>\n",
       "      <td>21</td>\n",
       "      <td>1</td>\n",
       "    </tr>\n",
       "    <tr>\n",
       "      <th>2</th>\n",
       "      <td>3.0</td>\n",
       "      <td>0</td>\n",
       "      <td>1.0</td>\n",
       "      <td>1</td>\n",
       "      <td>1900</td>\n",
       "      <td>1</td>\n",
       "      <td>1900</td>\n",
       "      <td>1900</td>\n",
       "      <td>29.683333</td>\n",
       "      <td>20</td>\n",
       "      <td>3</td>\n",
       "    </tr>\n",
       "    <tr>\n",
       "      <th>3</th>\n",
       "      <td>3.0</td>\n",
       "      <td>0</td>\n",
       "      <td>1.0</td>\n",
       "      <td>6</td>\n",
       "      <td>6900</td>\n",
       "      <td>5</td>\n",
       "      <td>600</td>\n",
       "      <td>1800</td>\n",
       "      <td>51.250000</td>\n",
       "      <td>21</td>\n",
       "      <td>1</td>\n",
       "    </tr>\n",
       "    <tr>\n",
       "      <th>4</th>\n",
       "      <td>3.0</td>\n",
       "      <td>0</td>\n",
       "      <td>1.0</td>\n",
       "      <td>3</td>\n",
       "      <td>3900</td>\n",
       "      <td>3</td>\n",
       "      <td>1100</td>\n",
       "      <td>1600</td>\n",
       "      <td>39.833333</td>\n",
       "      <td>2</td>\n",
       "      <td>6</td>\n",
       "    </tr>\n",
       "  </tbody>\n",
       "</table>\n",
       "</div>"
      ],
      "text/plain": [
       "  market_id  store_primary_category order_protocol  total_items  subtotal  \\\n",
       "0       1.0                       5            1.0            4      3441   \n",
       "1       2.0                      48            2.0            1      1900   \n",
       "2       3.0                       0            1.0            1      1900   \n",
       "3       3.0                       0            1.0            6      6900   \n",
       "4       3.0                       0            1.0            3      3900   \n",
       "\n",
       "   num_distinct_items  min_item_price  max_item_price  \\\n",
       "0                   4             557            1239   \n",
       "1                   1            1400            1400   \n",
       "2                   1            1900            1900   \n",
       "3                   5             600            1800   \n",
       "4                   3            1100            1600   \n",
       "\n",
       "   Time_taken_for_delivery  hour  day  \n",
       "0                62.983333    22    4  \n",
       "1                67.066667    21    1  \n",
       "2                29.683333    20    3  \n",
       "3                51.250000    21    1  \n",
       "4                39.833333     2    6  "
      ]
     },
     "execution_count": 12,
     "metadata": {},
     "output_type": "execute_result"
    }
   ],
   "source": [
    "df['store_primary_category']=df['store_primary_category'].astype('category').cat.codes\n",
    "\n",
    "df.head()"
   ]
  },
  {
   "cell_type": "markdown",
   "metadata": {
    "id": "mJEpKRG53Enz"
   },
   "source": [
    "Data visualization and cleaning (20 points)\n",
    "\n",
    "*   Visualization for various features\n",
    "\n",
    "*   Check for outliers\n",
    "\n",
    "\n",
    "*   Remove outliers\n",
    "*   Compare plots and results\n"
   ]
  },
  {
   "cell_type": "code",
   "execution_count": 13,
   "metadata": {
    "colab": {
     "base_uri": "https://localhost:8080/",
     "height": 662
    },
    "id": "gRfpqSmUDvsT",
    "outputId": "846441dc-2fbd-41ef-e974-6a015d3ebb55"
   },
   "outputs": [
    {
     "data": {
      "text/plain": [
       "<Axes: >"
      ]
     },
     "execution_count": 13,
     "metadata": {},
     "output_type": "execute_result"
    },
    {
     "data": {
      "image/png": "[encoded data removed]",
      "text/plain": [
       "<Figure size 432x288 with 2 Axes>"
      ]
     },
     "metadata": {
      "needs_background": "light"
     },
     "output_type": "display_data"
    }
   ],
   "source": [
    "import seaborn as sns\n",
    "import matplotlib.pyplot as plt\n",
    "sns.heatmap(df.corr())"
   ]
  },
  {
   "cell_type": "code",
   "execution_count": 14,
   "metadata": {
    "colab": {
     "base_uri": "https://localhost:8080/",
     "height": 251
    },
    "id": "yVUFDlScnGxv",
    "outputId": "3c4589d1-cd96-4517-ad79-ab2f9dd5a00d"
   },
   "outputs": [
    {
     "data": {
      "text/plain": [
       "<Axes: xlabel='store_primary_category', ylabel='total_items'>"
      ]
     },
     "execution_count": 14,
     "metadata": {},
     "output_type": "execute_result"
    },
    {
     "data": {
      "image/png": "[encoded data removed]",
      "text/plain": [
       "<Figure size 720x144 with 2 Axes>"
      ]
     },
     "metadata": {
      "needs_background": "light"
     },
     "output_type": "display_data"
    }
   ],
   "source": [
    "import seaborn as sns\n",
    "import matplotlib.pyplot as plt\n",
    "plt.figure(figsize=(10,2))\n",
    "plt.subplot(1,2,1)\n",
    "sns.barplot(y = 'total_items', x = 'market_id', data = df, estimator = sum)\n",
    "plt.subplot(1,2,2)\n",
    "sns.barplot(y = 'total_items', x = 'store_primary_category', data = df, estimator = sum)"
   ]
  },
  {
   "cell_type": "code",
   "execution_count": 15,
   "metadata": {},
   "outputs": [],
   "source": [
    "# import seaborn as sns\n",
    "# import numpy as np\n",
    "# import matplotlib.pyplot as plt\n",
    "# plt.figure(figsize=(10,2))\n",
    "# plt.subplot(1,2,1)\n",
    "# sns.barplot(y = 'total_items', x = 'market_id', data = df, estimator = np.sum)\n",
    "# plt.subplot(1,2,2)\n",
    "# sns.barplot(y = 'total_items', x = 'store_primary_category', data = df, estimator = np.sum)"
   ]
  },
  {
   "cell_type": "code",
   "execution_count": 16,
   "metadata": {
    "colab": {
     "base_uri": "https://localhost:8080/",
     "height": 251
    },
    "id": "Z7Xj8YMqu7pr",
    "outputId": "4c4658ac-d351-45a5-a538-893b7b611e05"
   },
   "outputs": [
    {
     "data": {
      "text/plain": [
       "<Axes: xlabel='order_protocol', ylabel='total_items'>"
      ]
     },
     "execution_count": 16,
     "metadata": {},
     "output_type": "execute_result"
    },
    {
     "data": {
      "image/png": "[encoded data removed]",
      "text/plain": [
       "<Figure size 360x144 with 1 Axes>"
      ]
     },
     "metadata": {
      "needs_background": "light"
     },
     "output_type": "display_data"
    }
   ],
   "source": [
    "plt.figure(figsize=(5,2))\n",
    "sns.barplot(y='total_items',x='order_protocol',data=df,estimator=sum)"
   ]
  },
  {
   "cell_type": "code",
   "execution_count": 17,
   "metadata": {
    "colab": {
     "base_uri": "https://localhost:8080/",
     "height": 251
    },
    "id": "tGg22-McFPJn",
    "outputId": "8f171a2a-1e19-4045-a94b-dc4309b65080"
   },
   "outputs": [
    {
     "data": {
      "text/plain": [
       "<Axes: xlabel='hour', ylabel='count'>"
      ]
     },
     "execution_count": 17,
     "metadata": {},
     "output_type": "execute_result"
    },
    {
     "data": {
      "image/png": "[encoded data removed]",
      "text/plain": [
       "<Figure size 720x144 with 2 Axes>"
      ]
     },
     "metadata": {
      "needs_background": "light"
     },
     "output_type": "display_data"
    }
   ],
   "source": [
    "plt.figure(figsize=(10,2))\n",
    "plt.subplot(121)\n",
    "sns.countplot(x=df['day'])\n",
    "plt.subplot(122)\n",
    "sns.countplot(x=df['hour'])"
   ]
  },
  {
   "cell_type": "code",
   "execution_count": 18,
   "metadata": {
    "colab": {
     "base_uri": "https://localhost:8080/",
     "height": 466
    },
    "id": "Y3O-n6yxFwQB",
    "outputId": "7dbb9bf5-7f11-4e20-8f37-17be0e53a64e"
   },
   "outputs": [
    {
     "data": {
      "text/plain": [
       "<Axes: xlabel='hour', ylabel='Time_taken_for_delivery'>"
      ]
     },
     "execution_count": 18,
     "metadata": {},
     "output_type": "execute_result"
    },
    {
     "data": {
      "image/png": "[encoded data removed]",
      "text/plain": [
       "<Figure size 432x288 with 1 Axes>"
      ]
     },
     "metadata": {
      "needs_background": "light"
     },
     "output_type": "display_data"
    }
   ],
   "source": [
    "sns.scatterplot(x='hour',y='Time_taken_for_delivery',data=df)"
   ]
  },
  {
   "cell_type": "markdown",
   "metadata": {
    "id": "RiIN5DOL_-GE"
   },
   "source": [
    "**No Collinearity**"
   ]
  },
  {
   "cell_type": "markdown",
   "metadata": {
    "id": "JSSH5x6XH-EM"
   },
   "source": [
    "Detecting Outliers"
   ]
  },
  {
   "cell_type": "code",
   "execution_count": 19,
   "metadata": {
    "colab": {
     "base_uri": "https://localhost:8080/",
     "height": 195
    },
    "id": "hp8XEceovDvE",
    "outputId": "f712c162-b630-434a-a0ec-9907c994a007"
   },
   "outputs": [
    {
     "data": {
      "image/png": "[encoded data removed]",
      "text/plain": [
       "<Figure size 144x144 with 1 Axes>"
      ]
     },
     "metadata": {
      "needs_background": "light"
     },
     "output_type": "display_data"
    }
   ],
   "source": [
    "import seaborn as sns\n",
    "import matplotlib.pyplot as plt\n",
    "plt.figure(figsize=(2,2))\n",
    "sns.boxplot(y='Time_taken_for_delivery',data=df)\n",
    "plt.xticks(rotation=90);\n",
    "plt.show()"
   ]
  },
  {
   "cell_type": "markdown",
   "metadata": {
    "id": "FXukhs5-H532"
   },
   "source": [
    "Removing Outliers"
   ]
  },
  {
   "cell_type": "code",
   "execution_count": 20,
   "metadata": {
    "colab": {
     "base_uri": "https://localhost:8080/"
    },
    "id": "Odn5dIejwGi8",
    "outputId": "ee1c549d-3cb3-4323-9f7c-189d227951fb"
   },
   "outputs": [
    {
     "name": "stdout",
     "output_type": "stream",
     "text": [
      "0.009624102805679234\n"
     ]
    }
   ],
   "source": [
    "import numpy as np\n",
    "print((df.loc[df['Time_taken_for_delivery'] >400].shape[0] / df.shape[0]) * 100)\n",
    "df.drop(index=df.loc[df['Time_taken_for_delivery'] >400].index[0],inplace=True)"
   ]
  },
  {
   "cell_type": "code",
   "execution_count": 21,
   "metadata": {
    "colab": {
     "base_uri": "https://localhost:8080/",
     "height": 195
    },
    "id": "VAaK7O4nG10u",
    "outputId": "c0b946ee-0c33-4a12-badf-38db6e139cfd"
   },
   "outputs": [
    {
     "data": {
      "image/png": "[encoded data removed]",
      "text/plain": [
       "<Figure size 144x144 with 1 Axes>"
      ]
     },
     "metadata": {
      "needs_background": "light"
     },
     "output_type": "display_data"
    }
   ],
   "source": [
    "import seaborn as sns\n",
    "import matplotlib.pyplot as plt\n",
    "plt.figure(figsize=(2,2))\n",
    "sns.boxplot(y='Time_taken_for_delivery',data=df)\n",
    "plt.xticks(rotation=90);\n",
    "plt.show()"
   ]
  },
  {
   "cell_type": "markdown",
   "metadata": {
    "id": "12RWuCNWVUNE"
   },
   "source": [
    "Model training with random forest (10 points)\n",
    "\n",
    "\n",
    "\n",
    "\n",
    "*   Data splitting\n",
    "*   Random forest regression\n",
    "\n"
   ]
  },
  {
   "cell_type": "code",
   "execution_count": 22,
   "metadata": {
    "colab": {
     "base_uri": "https://localhost:8080/",
     "height": 74
    },
    "id": "TPVIB-KXHxQq",
    "outputId": "aebe7723-3755-4f25-e0e2-35425da0bb68"
   },
   "outputs": [
    {
     "data": {
      "text/html": [
       "<style>#sk-container-id-1 {color: black;background-color: white;}#sk-container-id-1 pre{padding: 0;}#sk-container-id-1 div.sk-toggleable {background-color: white;}#sk-container-id-1 label.sk-toggleable__label {cursor: pointer;display: block;width: 100%;margin-bottom: 0;padding: 0.3em;box-sizing: border-box;text-align: center;}#sk-container-id-1 label.sk-toggleable__label-arrow:before {content: \"▸\";float: left;margin-right: 0.25em;color: #696969;}#sk-container-id-1 label.sk-toggleable__label-arrow:hover:before {color: black;}#sk-container-id-1 div.sk-estimator:hover label.sk-toggleable__label-arrow:before {color: black;}#sk-container-id-1 div.sk-toggleable__content {max-height: 0;max-width: 0;overflow: hidden;text-align: left;background-color: #f0f8ff;}#sk-container-id-1 div.sk-toggleable__content pre {margin: 0.2em;color: black;border-radius: 0.25em;background-color: #f0f8ff;}#sk-container-id-1 input.sk-toggleable__control:checked~div.sk-toggleable__content {max-height: 200px;max-width: 100%;overflow: auto;}#sk-container-id-1 input.sk-toggleable__control:checked~label.sk-toggleable__label-arrow:before {content: \"▾\";}#sk-container-id-1 div.sk-estimator input.sk-toggleable__control:checked~label.sk-toggleable__label {background-color: #d4ebff;}#sk-container-id-1 div.sk-label input.sk-toggleable__control:checked~label.sk-toggleable__label {background-color: #d4ebff;}#sk-container-id-1 input.sk-hidden--visually {border: 0;clip: rect(1px 1px 1px 1px);clip: rect(1px, 1px, 1px, 1px);height: 1px;margin: -1px;overflow: hidden;padding: 0;position: absolute;width: 1px;}#sk-container-id-1 div.sk-estimator {font-family: monospace;background-color: #f0f8ff;border: 1px dotted black;border-radius: 0.25em;box-sizing: border-box;margin-bottom: 0.5em;}#sk-container-id-1 div.sk-estimator:hover {background-color: #d4ebff;}#sk-container-id-1 div.sk-parallel-item::after {content: \"\";width: 100%;border-bottom: 1px solid gray;flex-grow: 1;}#sk-container-id-1 div.sk-label:hover label.sk-toggleable__label {background-color: #d4ebff;}#sk-container-id-1 div.sk-serial::before {content: \"\";position: absolute;border-left: 1px solid gray;box-sizing: border-box;top: 0;bottom: 0;left: 50%;z-index: 0;}#sk-container-id-1 div.sk-serial {display: flex;flex-direction: column;align-items: center;background-color: white;padding-right: 0.2em;padding-left: 0.2em;position: relative;}#sk-container-id-1 div.sk-item {position: relative;z-index: 1;}#sk-container-id-1 div.sk-parallel {display: flex;align-items: stretch;justify-content: center;background-color: white;position: relative;}#sk-container-id-1 div.sk-item::before, #sk-container-id-1 div.sk-parallel-item::before {content: \"\";position: absolute;border-left: 1px solid gray;box-sizing: border-box;top: 0;bottom: 0;left: 50%;z-index: -1;}#sk-container-id-1 div.sk-parallel-item {display: flex;flex-direction: column;z-index: 1;position: relative;background-color: white;}#sk-container-id-1 div.sk-parallel-item:first-child::after {align-self: flex-end;width: 50%;}#sk-container-id-1 div.sk-parallel-item:last-child::after {align-self: flex-start;width: 50%;}#sk-container-id-1 div.sk-parallel-item:only-child::after {width: 0;}#sk-container-id-1 div.sk-dashed-wrapped {border: 1px dashed gray;margin: 0 0.4em 0.5em 0.4em;box-sizing: border-box;padding-bottom: 0.4em;background-color: white;}#sk-container-id-1 div.sk-label label {font-family: monospace;font-weight: bold;display: inline-block;line-height: 1.2em;}#sk-container-id-1 div.sk-label-container {text-align: center;}#sk-container-id-1 div.sk-container {/* jupyter's `normalize.less` sets `[hidden] { display: none; }` but bootstrap.min.css set `[hidden] { display: none !important; }` so we also need the `!important` here to be able to override the default hidden behavior on the sphinx rendered scikit-learn.org. See: https://github.com/scikit-learn/scikit-learn/issues/21755 */display: inline-block !important;position: relative;}#sk-container-id-1 div.sk-text-repr-fallback {display: none;}</style><div id=\"sk-container-id-1\" class=\"sk-top-container\"><div class=\"sk-text-repr-fallback\"><pre>RandomForestRegressor()</pre><b>In a Jupyter environment, please rerun this cell to show the HTML representation or trust the notebook. <br />On GitHub, the HTML representation is unable to render, please try loading this page with nbviewer.org.</b></div><div class=\"sk-container\" hidden><div class=\"sk-item\"><div class=\"sk-estimator sk-toggleable\"><input class=\"sk-toggleable__control sk-hidden--visually\" id=\"sk-estimator-id-1\" type=\"checkbox\" checked><label for=\"sk-estimator-id-1\" class=\"sk-toggleable__label sk-toggleable__label-arrow\">RandomForestRegressor</label><div class=\"sk-toggleable__content\"><pre>RandomForestRegressor()</pre></div></div></div></div></div>"
      ],
      "text/plain": [
       "RandomForestRegressor()"
      ]
     },
     "execution_count": 22,
     "metadata": {},
     "output_type": "execute_result"
    }
   ],
   "source": [
    "from sklearn.model_selection import train_test_split\n",
    "from sklearn.ensemble import RandomForestRegressor\n",
    "y=df['Time_taken_for_delivery']\n",
    "x=df.drop(['Time_taken_for_delivery'],axis=1)\n",
    "X_train,X_test,y_train,y_test=train_test_split(x,y,test_size=0.2,random_state=42)\n",
    "regressor=RandomForestRegressor()\n",
    "regressor.fit(X_train,y_train)"
   ]
  },
  {
   "cell_type": "code",
   "execution_count": 23,
   "metadata": {
    "colab": {
     "base_uri": "https://localhost:8080/"
    },
    "id": "YvnRNnclRAO6",
    "outputId": "b19cbac0-6325-4aa6-c4de-d4c548b8434c"
   },
   "outputs": [
    {
     "name": "stdout",
     "output_type": "stream",
     "text": [
      "mse :  1300.2799406720324\n",
      "rmse :  36.05939462431437\n",
      "mase :  12.846208984470803\n",
      "mape :  29.58349182566292\n"
     ]
    },
    {
     "data": {
      "text/plain": [
       "0.01723084970784483"
      ]
     },
     "execution_count": 23,
     "metadata": {},
     "output_type": "execute_result"
    }
   ],
   "source": [
    "from sklearn.metrics import mean_squared_error,mean_absolute_error,r2_score\n",
    "prediction=regressor.predict(X_test)\n",
    "mse=mean_squared_error(y_test,prediction)\n",
    "rmse=mse**.5\n",
    "print(\"mse : \",mse)\n",
    "print(\"rmse : \",rmse)\n",
    "mae=mean_absolute_error(y_test,prediction)\n",
    "print(\"mase : \",mae)\n",
    "mape=np.mean(np.abs((y_test - prediction)/y_test))*100\n",
    "print(\"mape : \",mape)\n",
    "\n",
    "r2_score(y_test,prediction)"
   ]
  },
  {
   "cell_type": "markdown",
   "metadata": {
    "id": "yZ2euDGoZ1Iq"
   },
   "source": [
    "**Regression with neural networks (30 points)**\n",
    "\n",
    "\n",
    "*   Data scaling\n",
    "\n",
    "*   Defining NN architecture\n",
    "\n",
    "*   Trying different combinations and hyperparameters\n",
    "*   Model training\n",
    "\n",
    "\n",
    "*   Comparing results with random forest\n"
   ]
  },
  {
   "cell_type": "code",
   "execution_count": 24,
   "metadata": {
    "id": "Cl8mcVctULRk"
   },
   "outputs": [],
   "source": [
    "#Scalling the data to feed before neural network\n",
    "\n",
    "from sklearn import preprocessing\n",
    "scaler=preprocessing.MinMaxScaler()\n",
    "x_scaled=scaler.fit_transform(x)\n",
    "X_train,X_test,y_train,y_test=train_test_split(x_scaled,y,test_size=0.2,random_state=42)"
   ]
  },
  {
   "cell_type": "markdown",
   "metadata": {
    "id": "wdbkxsZeaVAU"
   },
   "source": [
    "We will build a simple neural network to train our regression model it is a sequential model with two layers,\n",
    "\n",
    "we have kept the number of nodes in the first layers equal to the number of input columns, and for the subsequent layers 32, 32, which can we changed or experimented with\n",
    "\n",
    "the activation for the layers is kept as relu because it is a great non linear activation function that works for most cases, we could have used leaky relu if we see gradient vanishing.\n",
    "\n",
    "the last layer has one node because it will give the single result that is our delivery time and the activation function for that should be linear"
   ]
  },
  {
   "cell_type": "code",
   "execution_count": 25,
   "metadata": {
    "colab": {
     "base_uri": "https://localhost:8080/"
    },
    "id": "XfZ5KYsmaG86",
    "outputId": "53838f9d-5537-483f-e6f1-070c938540ce"
   },
   "outputs": [
    {
     "name": "stdout",
     "output_type": "stream",
     "text": [
      "Epoch 1/10\n",
      "247/247 [==============================] - 2s 5ms/step - loss: 1392.1783 - mse: 1392.1783 - mae: 29.4618 - val_loss: 1362.2452 - val_mse: 1362.2452 - val_mae: 14.7470\n",
      "Epoch 2/10\n",
      "247/247 [==============================] - 1s 4ms/step - loss: 417.1539 - mse: 417.1539 - mae: 14.2039 - val_loss: 1313.2841 - val_mse: 1313.2841 - val_mae: 13.7728\n",
      "Epoch 3/10\n",
      "247/247 [==============================] - 1s 4ms/step - loss: 379.9030 - mse: 379.9030 - mae: 13.4416 - val_loss: 1287.0621 - val_mse: 1287.0621 - val_mae: 13.3476\n",
      "Epoch 4/10\n",
      "247/247 [==============================] - 1s 4ms/step - loss: 368.0661 - mse: 368.0661 - mae: 13.2132 - val_loss: 1283.0148 - val_mse: 1283.0148 - val_mae: 13.2582\n",
      "Epoch 5/10\n",
      "247/247 [==============================] - 1s 4ms/step - loss: 366.5257 - mse: 366.5257 - mae: 13.1894 - val_loss: 1282.5046 - val_mse: 1282.5046 - val_mae: 13.2999\n",
      "Epoch 6/10\n",
      "247/247 [==============================] - 1s 3ms/step - loss: 365.6674 - mse: 365.6674 - mae: 13.1706 - val_loss: 1281.1703 - val_mse: 1281.1703 - val_mae: 13.2063\n",
      "Epoch 7/10\n",
      "247/247 [==============================] - 1s 4ms/step - loss: 364.6604 - mse: 364.6604 - mae: 13.1409 - val_loss: 1280.2552 - val_mse: 1280.2552 - val_mae: 13.1922\n",
      "Epoch 8/10\n",
      "247/247 [==============================] - 1s 4ms/step - loss: 364.0567 - mse: 364.0567 - mae: 13.1313 - val_loss: 1279.9161 - val_mse: 1279.9161 - val_mae: 13.1436\n",
      "Epoch 9/10\n",
      "247/247 [==============================] - 1s 4ms/step - loss: 363.9629 - mse: 363.9629 - mae: 13.1285 - val_loss: 1279.3174 - val_mse: 1279.3174 - val_mae: 13.1791\n",
      "Epoch 10/10\n",
      "247/247 [==============================] - 1s 4ms/step - loss: 362.9220 - mse: 362.9220 - mae: 13.0993 - val_loss: 1276.9009 - val_mse: 1276.9009 - val_mae: 13.1533\n"
     ]
    }
   ],
   "source": [
    "from tensorflow.keras.models import Sequential\n",
    "from tensorflow.keras.layers import Dense\n",
    "\n",
    "model=Sequential()\n",
    "model.add(Dense(11,kernel_initializer='normal',activation='relu'))\n",
    "model.add(Dense(32,activation='relu'))\n",
    "model.add(Dense(32,activation='relu'))\n",
    "model.add(Dense(1,activation='linear'))\n",
    "model.compile(loss='mse',optimizer='Adam',metrics=['mse','mae'])\n",
    "history=model.fit(X_train,y_train,epochs=10,batch_size=512,verbose=1,validation_split=0.2)"
   ]
  },
  {
   "cell_type": "code",
   "execution_count": 26,
   "metadata": {
    "colab": {
     "base_uri": "https://localhost:8080/",
     "height": 761
    },
    "id": "7e4mGQz3apR5",
    "outputId": "91669b9c-e2a1-4ab7-b759-7942fa7d5b5a"
   },
   "outputs": [
    {
     "name": "stdout",
     "output_type": "stream",
     "text": [
      "Model: \"sequential\"\n",
      "_________________________________________________________________\n",
      " Layer (type)                Output Shape              Param #   \n",
      "=================================================================\n",
      " dense (Dense)               (None, 11)                121       \n",
      "                                                                 \n",
      " dense_1 (Dense)             (None, 32)                384       \n",
      "                                                                 \n",
      " dense_2 (Dense)             (None, 32)                1056      \n",
      "                                                                 \n",
      " dense_3 (Dense)             (None, 1)                 33        \n",
      "                                                                 \n",
      "=================================================================\n",
      "Total params: 1,594\n",
      "Trainable params: 1,594\n",
      "Non-trainable params: 0\n",
      "_________________________________________________________________\n"
     ]
    },
    {
     "data": {
      "image/png": "[encoded data removed]",
      "text/plain": [
       "<IPython.core.display.Image object>"
      ]
     },
     "execution_count": 26,
     "metadata": {},
     "output_type": "execute_result"
    }
   ],
   "source": [
    "model.summary()\n",
    "from tensorflow.keras.utils import plot_model\n",
    "plot_model(model)"
   ]
  },
  {
   "cell_type": "code",
   "execution_count": 27,
   "metadata": {
    "colab": {
     "base_uri": "https://localhost:8080/",
     "height": 449
    },
    "id": "VCDGOqqYazQk",
    "outputId": "215422ed-39a4-4b5b-ee8a-66dbf04a651c"
   },
   "outputs": [
    {
     "data": {
      "image/png": "[encoded data removed]",
      "text/plain": [
       "<Figure size 432x288 with 1 Axes>"
      ]
     },
     "metadata": {
      "needs_background": "light"
     },
     "output_type": "display_data"
    }
   ],
   "source": [
    "plt.plot(history.history['loss'])\n",
    "plt.plot(history.history['val_loss'])\n",
    "plt.xlabel(\"Epochs\")\n",
    "plt.ylabel('loss')\n",
    "plt.legend(['loss','val_loss'])\n",
    "plt.show()"
   ]
  },
  {
   "cell_type": "code",
   "execution_count": 28,
   "metadata": {
    "colab": {
     "base_uri": "https://localhost:8080/"
    },
    "id": "qIxneAFHg5Vj",
    "outputId": "b99f990e-e0f8-4638-fcc0-57a1eb805567"
   },
   "outputs": [
    {
     "name": "stdout",
     "output_type": "stream",
     "text": [
      "1234/1234 [==============================] - 2s 2ms/step\n",
      "r2_score: 0.020032352831149125\n",
      "1234/1234 [==============================] - 2s 2ms/step\n",
      "mse :  1296.5733343811453\n",
      "rmse :  36.007962097029946\n",
      "errors for neural net\n",
      "1234/1234 [==============================] - 3s 2ms/step\n",
      "mae :  13.143213508096352\n"
     ]
    }
   ],
   "source": [
    "print('r2_score:',r2_score(y_test, model.predict(X_test)))\n",
    "mse = mean_squared_error(y_test, model.predict(X_test))\n",
    "rmse = mse**.5\n",
    "print(\"mse : \",mse)\n",
    "print(\"rmse : \",rmse)\n",
    "print(\"errors for neural net\")\n",
    "mae = mean_absolute_error(y_test, model.predict(X_test))\n",
    "print(\"mae : \",mae)"
   ]
  },
  {
   "cell_type": "code",
   "execution_count": 29,
   "metadata": {
    "colab": {
     "base_uri": "https://localhost:8080/"
    },
    "id": "z7eXq0LnhJmr",
    "outputId": "136971af-83b1-4c52-afe2-efa54d04736c"
   },
   "outputs": [
    {
     "name": "stdout",
     "output_type": "stream",
     "text": [
      "1234/1234 [==============================] - 2s 2ms/step\n"
     ]
    },
    {
     "data": {
      "text/plain": [
       "0.304757209787468"
      ]
     },
     "execution_count": 29,
     "metadata": {},
     "output_type": "execute_result"
    }
   ],
   "source": [
    "from sklearn.metrics import mean_absolute_percentage_error\n",
    "mean_absolute_percentage_error(y_test, model.predict(X_test))"
   ]
  },
  {
   "cell_type": "markdown",
   "metadata": {
    "id": "O_ETAmGGhr_w"
   },
   "source": [
    "By comparing the results of our neural network model with the random forest model we can see that without any tuning or creating pretty complex architectures for training our model we have achieved high accuracy"
   ]
  },
  {
   "cell_type": "code",
   "execution_count": null,
   "metadata": {},
   "outputs": [],
   "source": []
  },
  {
   "cell_type": "code",
   "execution_count": null,
   "metadata": {},
   "outputs": [],
   "source": []
  }
 ],
 "metadata": {
  "colab": {
   "provenance": []
  },
  "kernelspec": {
   "display_name": "Python 3 (ipykernel)",
   "language": "python",
   "name": "python3"
  },
  "language_info": {
   "codemirror_mode": {
    "name": "ipython",
    "version": 3
   },
   "file_extension": ".py",
   "mimetype": "text/x-python",
   "name": "python",
   "nbconvert_exporter": "python",
   "pygments_lexer": "ipython3",
   "version": "3.10.4"
  }
 },
 "nbformat": 4,
 "nbformat_minor": 1
}
